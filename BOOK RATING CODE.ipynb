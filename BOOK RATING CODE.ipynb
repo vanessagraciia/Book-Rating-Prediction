{
 "cells": [
  {
   "cell_type": "code",
   "execution_count": 1,
   "id": "1ca19e60",
   "metadata": {},
   "outputs": [],
   "source": [
    "# import library\n",
    "import numpy as np\n",
    "import pandas as pd\n",
    "import scipy.sparse as sp\n",
    "import matplotlib.pyplot as plt\n",
    "\n",
    "from sklearn.model_selection import train_test_split\n",
    "from sklearn import svm\n",
    "from sklearn.metrics import accuracy_score, classification_report\n",
    "from scipy.sparse import hstack\n",
    "from sklearn.preprocessing import MaxAbsScaler\n",
    "from sklearn.feature_extraction.text import TfidfVectorizer"
   ]
  },
  {
   "cell_type": "code",
   "execution_count": 2,
   "id": "0806d432",
   "metadata": {},
   "outputs": [],
   "source": [
    "# load the datasets (features and labels)\n",
    "x_train_original = pd.read_csv(\"book_rating_train.csv\")\n",
    "y = x_train_original['rating_label']"
   ]
  },
  {
   "cell_type": "code",
   "execution_count": 3,
   "id": "16d151f2",
   "metadata": {},
   "outputs": [],
   "source": [
    "# fill in missing values\n",
    "x_train_original['Publisher'].fillna('Unknown', inplace=True)\n",
    "x_train_original['Language'].fillna('Missing', inplace=True)"
   ]
  },
  {
   "cell_type": "code",
   "execution_count": 4,
   "id": "7076fcd6",
   "metadata": {},
   "outputs": [],
   "source": [
    "# combine features\n",
    "features = pd.concat([x_train_original['PublishYear'], x_train_original['PublishMonth'],\n",
    "                      x_train_original['PublishDay'], x_train_original['pagesNumber']], axis = 1)"
   ]
  },
  {
   "cell_type": "code",
   "execution_count": 5,
   "id": "0174a60f",
   "metadata": {},
   "outputs": [],
   "source": [
    "# convert text features to numerical representation using vectorizer\n",
    "vectorizer1 = TfidfVectorizer()\n",
    "publisher = vectorizer1.fit_transform(x_train_original['Publisher'])\n",
    "\n",
    "vectorizer2 = TfidfVectorizer()\n",
    "language = vectorizer2.fit_transform(x_train_original['Language'])"
   ]
  },
  {
   "cell_type": "code",
   "execution_count": 6,
   "id": "1c560d1f",
   "metadata": {},
   "outputs": [],
   "source": [
    "# load text encoded CountVectorizer for name, authors, and desc\n",
    "matrix_name = sp.load_npz('train_name_vec.npz')\n",
    "matrix_authors = sp.load_npz('train_authors_vec.npz')\n",
    "matrix_desc = sp.load_npz('train_desc_vec.npz')"
   ]
  },
  {
   "cell_type": "code",
   "execution_count": 7,
   "id": "4a69fed0",
   "metadata": {},
   "outputs": [],
   "source": [
    "# combine all features\n",
    "matrix_combine = hstack([features, matrix_name])\n",
    "matrix_combine_2 = hstack((matrix_combine, matrix_authors))\n",
    "matrix_train = hstack((matrix_combine_2, matrix_desc))\n",
    "matrix2 = hstack((matrix_train, publisher))\n",
    "matrix = hstack((matrix2, language))"
   ]
  },
  {
   "cell_type": "code",
   "execution_count": 8,
   "id": "063d3f08",
   "metadata": {},
   "outputs": [],
   "source": [
    "# separate datasets to train and test and scaling before apply model\n",
    "scaler = MaxAbsScaler()\n",
    "\n",
    "X_train, X_test, y_train, y_test = train_test_split(matrix, y, train_size=0.8, test_size=0.2, random_state=42)\n",
    "X_train = scaler.fit_transform(X_train)\n",
    "X_test = scaler.fit_transform(X_test)"
   ]
  },
  {
   "cell_type": "code",
   "execution_count": 9,
   "id": "a3c9d6af",
   "metadata": {},
   "outputs": [],
   "source": [
    "# set classifier model to be run\n",
    "classifiers = [svm.LinearSVC(C=0.0001), svm.LinearSVC(C=0.005), svm.LinearSVC(C=0.001), svm.LinearSVC(C=0.05), \n",
    "          svm.LinearSVC(C=0.01), svm.LinearSVC(C=0.5), svm.LinearSVC(C=0.1), svm.LinearSVC(C=1.0)]\n",
    "\n",
    "tune = ['C = 0.0001', 'C = 0.005', 'C = 0.001', 'C = 0.05', 'C = 0.01', 'C = 0.5', 'C = 0.1', 'C = 1.0']"
   ]
  },
  {
   "cell_type": "code",
   "execution_count": 10,
   "id": "c96be4fe",
   "metadata": {},
   "outputs": [
    {
     "name": "stdout",
     "output_type": "stream",
     "text": [
      "Linear SVM with C = 0.0001\n",
      "Accuracy: 0.7112508129200087\n",
      "              precision    recall  f1-score   support\n",
      "\n",
      "         3.0       0.00      0.00      0.00      1136\n",
      "         4.0       0.71      1.00      0.83      3281\n",
      "         5.0       0.00      0.00      0.00       196\n",
      "\n",
      "    accuracy                           0.71      4613\n",
      "   macro avg       0.24      0.33      0.28      4613\n",
      "weighted avg       0.51      0.71      0.59      4613\n",
      "\n",
      "Linear SVM with C = 0.005\n"
     ]
    },
    {
     "name": "stderr",
     "output_type": "stream",
     "text": [
      "/Users/vanessagraciatan/opt/anaconda3/lib/python3.9/site-packages/sklearn/metrics/_classification.py:1344: UndefinedMetricWarning: Precision and F-score are ill-defined and being set to 0.0 in labels with no predicted samples. Use `zero_division` parameter to control this behavior.\n",
      "  _warn_prf(average, modifier, msg_start, len(result))\n",
      "/Users/vanessagraciatan/opt/anaconda3/lib/python3.9/site-packages/sklearn/metrics/_classification.py:1344: UndefinedMetricWarning: Precision and F-score are ill-defined and being set to 0.0 in labels with no predicted samples. Use `zero_division` parameter to control this behavior.\n",
      "  _warn_prf(average, modifier, msg_start, len(result))\n",
      "/Users/vanessagraciatan/opt/anaconda3/lib/python3.9/site-packages/sklearn/metrics/_classification.py:1344: UndefinedMetricWarning: Precision and F-score are ill-defined and being set to 0.0 in labels with no predicted samples. Use `zero_division` parameter to control this behavior.\n",
      "  _warn_prf(average, modifier, msg_start, len(result))\n"
     ]
    },
    {
     "name": "stdout",
     "output_type": "stream",
     "text": [
      "Accuracy: 0.7242575330587471\n",
      "              precision    recall  f1-score   support\n",
      "\n",
      "         3.0       0.69      0.09      0.17      1136\n",
      "         4.0       0.73      0.99      0.84      3281\n",
      "         5.0       1.00      0.01      0.01       196\n",
      "\n",
      "    accuracy                           0.72      4613\n",
      "   macro avg       0.80      0.36      0.34      4613\n",
      "weighted avg       0.73      0.72      0.64      4613\n",
      "\n",
      "Linear SVM with C = 0.001\n",
      "Accuracy: 0.7116843702579666\n",
      "              precision    recall  f1-score   support\n",
      "\n",
      "         3.0       1.00      0.00      0.00      1136\n",
      "         4.0       0.71      1.00      0.83      3281\n",
      "         5.0       0.00      0.00      0.00       196\n",
      "\n",
      "    accuracy                           0.71      4613\n",
      "   macro avg       0.57      0.33      0.28      4613\n",
      "weighted avg       0.75      0.71      0.59      4613\n",
      "\n",
      "Linear SVM with C = 0.05\n"
     ]
    },
    {
     "name": "stderr",
     "output_type": "stream",
     "text": [
      "/Users/vanessagraciatan/opt/anaconda3/lib/python3.9/site-packages/sklearn/metrics/_classification.py:1344: UndefinedMetricWarning: Precision and F-score are ill-defined and being set to 0.0 in labels with no predicted samples. Use `zero_division` parameter to control this behavior.\n",
      "  _warn_prf(average, modifier, msg_start, len(result))\n",
      "/Users/vanessagraciatan/opt/anaconda3/lib/python3.9/site-packages/sklearn/metrics/_classification.py:1344: UndefinedMetricWarning: Precision and F-score are ill-defined and being set to 0.0 in labels with no predicted samples. Use `zero_division` parameter to control this behavior.\n",
      "  _warn_prf(average, modifier, msg_start, len(result))\n",
      "/Users/vanessagraciatan/opt/anaconda3/lib/python3.9/site-packages/sklearn/metrics/_classification.py:1344: UndefinedMetricWarning: Precision and F-score are ill-defined and being set to 0.0 in labels with no predicted samples. Use `zero_division` parameter to control this behavior.\n",
      "  _warn_prf(average, modifier, msg_start, len(result))\n"
     ]
    },
    {
     "name": "stdout",
     "output_type": "stream",
     "text": [
      "Accuracy: 0.7151528289616301\n",
      "              precision    recall  f1-score   support\n",
      "\n",
      "         3.0       0.50      0.32      0.39      1136\n",
      "         4.0       0.76      0.89      0.82      3281\n",
      "         5.0       0.71      0.12      0.21       196\n",
      "\n",
      "    accuracy                           0.72      4613\n",
      "   macro avg       0.65      0.44      0.47      4613\n",
      "weighted avg       0.69      0.72      0.69      4613\n",
      "\n",
      "Linear SVM with C = 0.01\n",
      "Accuracy: 0.7305441144591373\n",
      "              precision    recall  f1-score   support\n",
      "\n",
      "         3.0       0.62      0.18      0.27      1136\n",
      "         4.0       0.74      0.96      0.84      3281\n",
      "         5.0       1.00      0.06      0.11       196\n",
      "\n",
      "    accuracy                           0.73      4613\n",
      "   macro avg       0.79      0.40      0.41      4613\n",
      "weighted avg       0.72      0.73      0.67      4613\n",
      "\n",
      "Linear SVM with C = 0.5\n",
      "Accuracy: 0.6891393886841535\n",
      "              precision    recall  f1-score   support\n",
      "\n",
      "         3.0       0.45      0.41      0.43      1136\n",
      "         4.0       0.77      0.81      0.79      3281\n",
      "         5.0       0.48      0.21      0.29       196\n",
      "\n",
      "    accuracy                           0.69      4613\n",
      "   macro avg       0.56      0.48      0.50      4613\n",
      "weighted avg       0.68      0.69      0.68      4613\n",
      "\n",
      "Linear SVM with C = 0.1\n",
      "Accuracy: 0.7066984608714503\n",
      "              precision    recall  f1-score   support\n",
      "\n",
      "         3.0       0.47      0.36      0.41      1136\n",
      "         4.0       0.76      0.86      0.81      3281\n",
      "         5.0       0.61      0.17      0.26       196\n",
      "\n",
      "    accuracy                           0.71      4613\n",
      "   macro avg       0.62      0.46      0.49      4613\n",
      "weighted avg       0.68      0.71      0.69      4613\n",
      "\n",
      "Linear SVM with C = 1.0\n",
      "Accuracy: 0.6867548233253847\n",
      "              precision    recall  f1-score   support\n",
      "\n",
      "         3.0       0.44      0.43      0.44      1136\n",
      "         4.0       0.77      0.81      0.79      3281\n",
      "         5.0       0.45      0.21      0.29       196\n",
      "\n",
      "    accuracy                           0.69      4613\n",
      "   macro avg       0.56      0.48      0.50      4613\n",
      "weighted avg       0.68      0.69      0.68      4613\n",
      "\n"
     ]
    }
   ],
   "source": [
    "# fit Linear SVM model and compare accuracy and classification report for each hyperparameter \n",
    "\n",
    "accuracy_list= []\n",
    "for par, clf in zip(tune, classifiers):\n",
    "    print('Linear SVM with', par)\n",
    "    clf.fit(X_train, y_train)\n",
    "    pred = clf.predict(X_test)\n",
    "    accuracy = accuracy_score(y_test, pred)\n",
    "    accuracy_list.append(accuracy)\n",
    "    print('Accuracy:', accuracy)\n",
    "    print(classification_report(y_test, pred))"
   ]
  },
  {
   "cell_type": "code",
   "execution_count": 11,
   "id": "734d6993",
   "metadata": {},
   "outputs": [],
   "source": [
    "# matrices for all features excluding language\n",
    "matrix_combine = hstack([features, matrix_name])\n",
    "matrix_combine_2 = hstack((matrix_combine, matrix_authors))\n",
    "matrix_train = hstack((matrix_combine_2, matrix_desc))\n",
    "matrix2 = hstack((matrix_train, publisher))"
   ]
  },
  {
   "cell_type": "code",
   "execution_count": 12,
   "id": "be9e060e",
   "metadata": {},
   "outputs": [],
   "source": [
    "# separate datasets to train and test and scaling before apply model\n",
    "scaler = MaxAbsScaler()\n",
    "\n",
    "X_train_p, X_test_p, y_train_p, y_test_p = train_test_split(matrix2, y, train_size=0.8, test_size=0.2, random_state=42)\n",
    "X_train_p = scaler.fit_transform(X_train_p)\n",
    "X_test_p = scaler.fit_transform(X_test_p)"
   ]
  },
  {
   "cell_type": "code",
   "execution_count": 13,
   "id": "f26f5020",
   "metadata": {},
   "outputs": [
    {
     "name": "stdout",
     "output_type": "stream",
     "text": [
      "Linear SVM with C = 0.0001\n",
      "Accuracy: 0.7112508129200087\n"
     ]
    },
    {
     "name": "stderr",
     "output_type": "stream",
     "text": [
      "/Users/vanessagraciatan/opt/anaconda3/lib/python3.9/site-packages/sklearn/metrics/_classification.py:1344: UndefinedMetricWarning: Precision and F-score are ill-defined and being set to 0.0 in labels with no predicted samples. Use `zero_division` parameter to control this behavior.\n",
      "  _warn_prf(average, modifier, msg_start, len(result))\n",
      "/Users/vanessagraciatan/opt/anaconda3/lib/python3.9/site-packages/sklearn/metrics/_classification.py:1344: UndefinedMetricWarning: Precision and F-score are ill-defined and being set to 0.0 in labels with no predicted samples. Use `zero_division` parameter to control this behavior.\n",
      "  _warn_prf(average, modifier, msg_start, len(result))\n",
      "/Users/vanessagraciatan/opt/anaconda3/lib/python3.9/site-packages/sklearn/metrics/_classification.py:1344: UndefinedMetricWarning: Precision and F-score are ill-defined and being set to 0.0 in labels with no predicted samples. Use `zero_division` parameter to control this behavior.\n",
      "  _warn_prf(average, modifier, msg_start, len(result))\n"
     ]
    },
    {
     "name": "stdout",
     "output_type": "stream",
     "text": [
      "              precision    recall  f1-score   support\n",
      "\n",
      "         3.0       0.00      0.00      0.00      1136\n",
      "         4.0       0.71      1.00      0.83      3281\n",
      "         5.0       0.00      0.00      0.00       196\n",
      "\n",
      "    accuracy                           0.71      4613\n",
      "   macro avg       0.24      0.33      0.28      4613\n",
      "weighted avg       0.51      0.71      0.59      4613\n",
      "\n",
      "Linear SVM with C = 0.005\n",
      "Accuracy: 0.7220897463689573\n",
      "              precision    recall  f1-score   support\n",
      "\n",
      "         3.0       0.68      0.08      0.14      1136\n",
      "         4.0       0.72      0.99      0.83      3281\n",
      "         5.0       1.00      0.01      0.01       196\n",
      "\n",
      "    accuracy                           0.72      4613\n",
      "   macro avg       0.80      0.36      0.33      4613\n",
      "weighted avg       0.72      0.72      0.63      4613\n",
      "\n",
      "Linear SVM with C = 0.001\n",
      "Accuracy: 0.7116843702579666\n",
      "              precision    recall  f1-score   support\n",
      "\n",
      "         3.0       1.00      0.00      0.00      1136\n",
      "         4.0       0.71      1.00      0.83      3281\n",
      "         5.0       0.00      0.00      0.00       196\n",
      "\n",
      "    accuracy                           0.71      4613\n",
      "   macro avg       0.57      0.33      0.28      4613\n",
      "weighted avg       0.75      0.71      0.59      4613\n",
      "\n",
      "Linear SVM with C = 0.05\n"
     ]
    },
    {
     "name": "stderr",
     "output_type": "stream",
     "text": [
      "/Users/vanessagraciatan/opt/anaconda3/lib/python3.9/site-packages/sklearn/metrics/_classification.py:1344: UndefinedMetricWarning: Precision and F-score are ill-defined and being set to 0.0 in labels with no predicted samples. Use `zero_division` parameter to control this behavior.\n",
      "  _warn_prf(average, modifier, msg_start, len(result))\n",
      "/Users/vanessagraciatan/opt/anaconda3/lib/python3.9/site-packages/sklearn/metrics/_classification.py:1344: UndefinedMetricWarning: Precision and F-score are ill-defined and being set to 0.0 in labels with no predicted samples. Use `zero_division` parameter to control this behavior.\n",
      "  _warn_prf(average, modifier, msg_start, len(result))\n",
      "/Users/vanessagraciatan/opt/anaconda3/lib/python3.9/site-packages/sklearn/metrics/_classification.py:1344: UndefinedMetricWarning: Precision and F-score are ill-defined and being set to 0.0 in labels with no predicted samples. Use `zero_division` parameter to control this behavior.\n",
      "  _warn_prf(average, modifier, msg_start, len(result))\n"
     ]
    },
    {
     "name": "stdout",
     "output_type": "stream",
     "text": [
      "Accuracy: 0.7173206156514199\n",
      "              precision    recall  f1-score   support\n",
      "\n",
      "         3.0       0.51      0.31      0.38      1136\n",
      "         4.0       0.76      0.89      0.82      3281\n",
      "         5.0       0.73      0.12      0.21       196\n",
      "\n",
      "    accuracy                           0.72      4613\n",
      "   macro avg       0.66      0.44      0.47      4613\n",
      "weighted avg       0.69      0.72      0.69      4613\n",
      "\n",
      "Linear SVM with C = 0.01\n",
      "Accuracy: 0.7281595491003685\n",
      "              precision    recall  f1-score   support\n",
      "\n",
      "         3.0       0.61      0.16      0.25      1136\n",
      "         4.0       0.74      0.97      0.84      3281\n",
      "         5.0       1.00      0.05      0.10       196\n",
      "\n",
      "    accuracy                           0.73      4613\n",
      "   macro avg       0.78      0.39      0.39      4613\n",
      "weighted avg       0.72      0.73      0.66      4613\n",
      "\n",
      "Linear SVM with C = 0.5\n",
      "Accuracy: 0.6910903967049642\n",
      "              precision    recall  f1-score   support\n",
      "\n",
      "         3.0       0.45      0.40      0.42      1136\n",
      "         4.0       0.77      0.82      0.79      3281\n",
      "         5.0       0.51      0.21      0.30       196\n",
      "\n",
      "    accuracy                           0.69      4613\n",
      "   macro avg       0.58      0.48      0.50      4613\n",
      "weighted avg       0.68      0.69      0.68      4613\n",
      "\n",
      "Linear SVM with C = 0.1\n",
      "Accuracy: 0.7040971168437026\n",
      "              precision    recall  f1-score   support\n",
      "\n",
      "         3.0       0.47      0.35      0.40      1136\n",
      "         4.0       0.76      0.86      0.81      3281\n",
      "         5.0       0.62      0.16      0.25       196\n",
      "\n",
      "    accuracy                           0.70      4613\n",
      "   macro avg       0.62      0.46      0.49      4613\n",
      "weighted avg       0.68      0.70      0.68      4613\n",
      "\n",
      "Linear SVM with C = 1.0\n",
      "Accuracy: 0.6893561673531324\n",
      "              precision    recall  f1-score   support\n",
      "\n",
      "         3.0       0.45      0.41      0.43      1136\n",
      "         4.0       0.77      0.81      0.79      3281\n",
      "         5.0       0.47      0.21      0.29       196\n",
      "\n",
      "    accuracy                           0.69      4613\n",
      "   macro avg       0.56      0.48      0.50      4613\n",
      "weighted avg       0.68      0.69      0.68      4613\n",
      "\n"
     ]
    }
   ],
   "source": [
    "# fit Linear SVM model and compare accuracy and classification report for each hyperparameter \n",
    "accuracy_list_p = []\n",
    "for par, clf in zip(tune, classifiers):\n",
    "    print('Linear SVM with', par)\n",
    "    clf.fit(X_train_p, y_train_p)\n",
    "    pred = clf.predict(X_test_p)\n",
    "    accuracy = accuracy_score(y_test_p, pred)\n",
    "    accuracy_list_p.append(accuracy)\n",
    "    print('Accuracy:', accuracy)\n",
    "    print(classification_report(y_test_p, pred))"
   ]
  },
  {
   "cell_type": "code",
   "execution_count": 14,
   "id": "e281f997",
   "metadata": {},
   "outputs": [],
   "source": [
    "# matrices for all features excluding publisher\n",
    "matrix_combine = hstack([features, matrix_name])\n",
    "matrix_combine_2 = hstack((matrix_combine, matrix_authors))\n",
    "matrix_train = hstack((matrix_combine_2, matrix_desc))\n",
    "matrix3 = hstack((matrix_train, language))"
   ]
  },
  {
   "cell_type": "code",
   "execution_count": 15,
   "id": "7a50c303",
   "metadata": {},
   "outputs": [],
   "source": [
    "# separate datasets to train and test and scaling before apply model\n",
    "scaler = MaxAbsScaler()\n",
    "\n",
    "X_train_l, X_test_l, y_train_l, y_test_l = train_test_split(matrix3, y, train_size=0.8, test_size=0.2, random_state=42)\n",
    "X_train_l = scaler.fit_transform(X_train_l)\n",
    "X_test_l = scaler.fit_transform(X_test_l)"
   ]
  },
  {
   "cell_type": "code",
   "execution_count": 16,
   "id": "095b1fdd",
   "metadata": {},
   "outputs": [
    {
     "name": "stdout",
     "output_type": "stream",
     "text": [
      "Linear SVM with C = 0.0001\n",
      "Accuracy: 0.7112508129200087\n",
      "              precision    recall  f1-score   support\n",
      "\n",
      "         3.0       0.00      0.00      0.00      1136\n",
      "         4.0       0.71      1.00      0.83      3281\n",
      "         5.0       0.00      0.00      0.00       196\n",
      "\n",
      "    accuracy                           0.71      4613\n",
      "   macro avg       0.24      0.33      0.28      4613\n",
      "weighted avg       0.51      0.71      0.59      4613\n",
      "\n",
      "Linear SVM with C = 0.005\n"
     ]
    },
    {
     "name": "stderr",
     "output_type": "stream",
     "text": [
      "/Users/vanessagraciatan/opt/anaconda3/lib/python3.9/site-packages/sklearn/metrics/_classification.py:1344: UndefinedMetricWarning: Precision and F-score are ill-defined and being set to 0.0 in labels with no predicted samples. Use `zero_division` parameter to control this behavior.\n",
      "  _warn_prf(average, modifier, msg_start, len(result))\n",
      "/Users/vanessagraciatan/opt/anaconda3/lib/python3.9/site-packages/sklearn/metrics/_classification.py:1344: UndefinedMetricWarning: Precision and F-score are ill-defined and being set to 0.0 in labels with no predicted samples. Use `zero_division` parameter to control this behavior.\n",
      "  _warn_prf(average, modifier, msg_start, len(result))\n",
      "/Users/vanessagraciatan/opt/anaconda3/lib/python3.9/site-packages/sklearn/metrics/_classification.py:1344: UndefinedMetricWarning: Precision and F-score are ill-defined and being set to 0.0 in labels with no predicted samples. Use `zero_division` parameter to control this behavior.\n",
      "  _warn_prf(average, modifier, msg_start, len(result))\n"
     ]
    },
    {
     "name": "stdout",
     "output_type": "stream",
     "text": [
      "Accuracy: 0.7214394103620204\n",
      "              precision    recall  f1-score   support\n",
      "\n",
      "         3.0       0.68      0.08      0.14      1136\n",
      "         4.0       0.72      0.99      0.83      3281\n",
      "         5.0       0.00      0.00      0.00       196\n",
      "\n",
      "    accuracy                           0.72      4613\n",
      "   macro avg       0.47      0.35      0.32      4613\n",
      "weighted avg       0.68      0.72      0.63      4613\n",
      "\n",
      "Linear SVM with C = 0.001\n"
     ]
    },
    {
     "name": "stderr",
     "output_type": "stream",
     "text": [
      "/Users/vanessagraciatan/opt/anaconda3/lib/python3.9/site-packages/sklearn/metrics/_classification.py:1344: UndefinedMetricWarning: Precision and F-score are ill-defined and being set to 0.0 in labels with no predicted samples. Use `zero_division` parameter to control this behavior.\n",
      "  _warn_prf(average, modifier, msg_start, len(result))\n",
      "/Users/vanessagraciatan/opt/anaconda3/lib/python3.9/site-packages/sklearn/metrics/_classification.py:1344: UndefinedMetricWarning: Precision and F-score are ill-defined and being set to 0.0 in labels with no predicted samples. Use `zero_division` parameter to control this behavior.\n",
      "  _warn_prf(average, modifier, msg_start, len(result))\n",
      "/Users/vanessagraciatan/opt/anaconda3/lib/python3.9/site-packages/sklearn/metrics/_classification.py:1344: UndefinedMetricWarning: Precision and F-score are ill-defined and being set to 0.0 in labels with no predicted samples. Use `zero_division` parameter to control this behavior.\n",
      "  _warn_prf(average, modifier, msg_start, len(result))\n"
     ]
    },
    {
     "name": "stdout",
     "output_type": "stream",
     "text": [
      "Accuracy: 0.7114675915889876\n",
      "              precision    recall  f1-score   support\n",
      "\n",
      "         3.0       1.00      0.00      0.00      1136\n",
      "         4.0       0.71      1.00      0.83      3281\n",
      "         5.0       0.00      0.00      0.00       196\n",
      "\n",
      "    accuracy                           0.71      4613\n",
      "   macro avg       0.57      0.33      0.28      4613\n",
      "weighted avg       0.75      0.71      0.59      4613\n",
      "\n",
      "Linear SVM with C = 0.05\n"
     ]
    },
    {
     "name": "stderr",
     "output_type": "stream",
     "text": [
      "/Users/vanessagraciatan/opt/anaconda3/lib/python3.9/site-packages/sklearn/metrics/_classification.py:1344: UndefinedMetricWarning: Precision and F-score are ill-defined and being set to 0.0 in labels with no predicted samples. Use `zero_division` parameter to control this behavior.\n",
      "  _warn_prf(average, modifier, msg_start, len(result))\n",
      "/Users/vanessagraciatan/opt/anaconda3/lib/python3.9/site-packages/sklearn/metrics/_classification.py:1344: UndefinedMetricWarning: Precision and F-score are ill-defined and being set to 0.0 in labels with no predicted samples. Use `zero_division` parameter to control this behavior.\n",
      "  _warn_prf(average, modifier, msg_start, len(result))\n",
      "/Users/vanessagraciatan/opt/anaconda3/lib/python3.9/site-packages/sklearn/metrics/_classification.py:1344: UndefinedMetricWarning: Precision and F-score are ill-defined and being set to 0.0 in labels with no predicted samples. Use `zero_division` parameter to control this behavior.\n",
      "  _warn_prf(average, modifier, msg_start, len(result))\n"
     ]
    },
    {
     "name": "stdout",
     "output_type": "stream",
     "text": [
      "Accuracy: 0.7101669195751138\n",
      "              precision    recall  f1-score   support\n",
      "\n",
      "         3.0       0.48      0.30      0.37      1136\n",
      "         4.0       0.75      0.89      0.81      3281\n",
      "         5.0       0.70      0.11      0.19       196\n",
      "\n",
      "    accuracy                           0.71      4613\n",
      "   macro avg       0.64      0.43      0.46      4613\n",
      "weighted avg       0.68      0.71      0.68      4613\n",
      "\n",
      "Linear SVM with C = 0.01\n",
      "Accuracy: 0.724691090396705\n",
      "              precision    recall  f1-score   support\n",
      "\n",
      "         3.0       0.60      0.15      0.24      1136\n",
      "         4.0       0.73      0.97      0.83      3281\n",
      "         5.0       1.00      0.03      0.06       196\n",
      "\n",
      "    accuracy                           0.72      4613\n",
      "   macro avg       0.78      0.38      0.38      4613\n",
      "weighted avg       0.71      0.72      0.65      4613\n",
      "\n",
      "Linear SVM with C = 0.5\n",
      "Accuracy: 0.6809017992629526\n",
      "              precision    recall  f1-score   support\n",
      "\n",
      "         3.0       0.43      0.39      0.41      1136\n",
      "         4.0       0.76      0.81      0.79      3281\n",
      "         5.0       0.46      0.18      0.26       196\n",
      "\n",
      "    accuracy                           0.68      4613\n",
      "   macro avg       0.55      0.46      0.48      4613\n",
      "weighted avg       0.67      0.68      0.67      4613\n",
      "\n",
      "Linear SVM with C = 0.1\n",
      "Accuracy: 0.7047474528506394\n",
      "              precision    recall  f1-score   support\n",
      "\n",
      "         3.0       0.47      0.35      0.40      1136\n",
      "         4.0       0.76      0.86      0.81      3281\n",
      "         5.0       0.62      0.15      0.24       196\n",
      "\n",
      "    accuracy                           0.70      4613\n",
      "   macro avg       0.62      0.45      0.48      4613\n",
      "weighted avg       0.68      0.70      0.68      4613\n",
      "\n",
      "Linear SVM with C = 1.0\n",
      "Accuracy: 0.6787340125731628\n",
      "              precision    recall  f1-score   support\n",
      "\n",
      "         3.0       0.43      0.40      0.41      1136\n",
      "         4.0       0.76      0.80      0.78      3281\n",
      "         5.0       0.43      0.18      0.25       196\n",
      "\n",
      "    accuracy                           0.68      4613\n",
      "   macro avg       0.54      0.46      0.48      4613\n",
      "weighted avg       0.67      0.68      0.67      4613\n",
      "\n"
     ]
    }
   ],
   "source": [
    "# fit Linear SVM model and compare accuracy and classification report for each hyperparameter \n",
    "accuracy_list_l= []\n",
    "for par, clf in zip(tune, classifiers):\n",
    "    print('Linear SVM with', par)\n",
    "    clf.fit(X_train_l, y_train_l)\n",
    "    pred = clf.predict(X_test_l)\n",
    "    accuracy = accuracy_score(y_test_l, pred)\n",
    "    accuracy_list_l.append(accuracy)\n",
    "    print('Accuracy:', accuracy)\n",
    "    print(classification_report(y_test_l, pred))"
   ]
  },
  {
   "cell_type": "code",
   "execution_count": 17,
   "id": "6f77f8dd",
   "metadata": {},
   "outputs": [],
   "source": [
    "# matrices for all features excluding publisher and language\n",
    "matrix_combine = hstack([features, matrix_name])\n",
    "matrix_combine_2 = hstack((matrix_combine, matrix_authors))\n",
    "matrix_train = hstack((matrix_combine_2, matrix_desc))"
   ]
  },
  {
   "cell_type": "code",
   "execution_count": 18,
   "id": "bb8c37e2",
   "metadata": {},
   "outputs": [],
   "source": [
    "# separate datasets to train and test and scaling before apply model\n",
    "scaler = MaxAbsScaler()\n",
    "\n",
    "X_train_lp, X_test_lp, y_train_lp, y_test_lp = train_test_split(matrix_train, y, train_size=0.8, test_size=0.2, random_state=42)\n",
    "X_train_lp = scaler.fit_transform(X_train_lp)\n",
    "X_test_lp = scaler.fit_transform(X_test_lp)"
   ]
  },
  {
   "cell_type": "code",
   "execution_count": 19,
   "id": "f6d6727b",
   "metadata": {},
   "outputs": [
    {
     "name": "stdout",
     "output_type": "stream",
     "text": [
      "Linear SVM with C = 0.0001\n",
      "Accuracy: 0.7112508129200087\n",
      "              precision    recall  f1-score   support\n",
      "\n",
      "         3.0       0.00      0.00      0.00      1136\n",
      "         4.0       0.71      1.00      0.83      3281\n",
      "         5.0       0.00      0.00      0.00       196\n",
      "\n",
      "    accuracy                           0.71      4613\n",
      "   macro avg       0.24      0.33      0.28      4613\n",
      "weighted avg       0.51      0.71      0.59      4613\n",
      "\n",
      "Linear SVM with C = 0.005\n"
     ]
    },
    {
     "name": "stderr",
     "output_type": "stream",
     "text": [
      "/Users/vanessagraciatan/opt/anaconda3/lib/python3.9/site-packages/sklearn/metrics/_classification.py:1344: UndefinedMetricWarning: Precision and F-score are ill-defined and being set to 0.0 in labels with no predicted samples. Use `zero_division` parameter to control this behavior.\n",
      "  _warn_prf(average, modifier, msg_start, len(result))\n",
      "/Users/vanessagraciatan/opt/anaconda3/lib/python3.9/site-packages/sklearn/metrics/_classification.py:1344: UndefinedMetricWarning: Precision and F-score are ill-defined and being set to 0.0 in labels with no predicted samples. Use `zero_division` parameter to control this behavior.\n",
      "  _warn_prf(average, modifier, msg_start, len(result))\n",
      "/Users/vanessagraciatan/opt/anaconda3/lib/python3.9/site-packages/sklearn/metrics/_classification.py:1344: UndefinedMetricWarning: Precision and F-score are ill-defined and being set to 0.0 in labels with no predicted samples. Use `zero_division` parameter to control this behavior.\n",
      "  _warn_prf(average, modifier, msg_start, len(result))\n"
     ]
    },
    {
     "name": "stdout",
     "output_type": "stream",
     "text": [
      "Accuracy: 0.7194884023412096\n",
      "              precision    recall  f1-score   support\n",
      "\n",
      "         3.0       0.69      0.06      0.11      1136\n",
      "         4.0       0.72      0.99      0.83      3281\n",
      "         5.0       0.00      0.00      0.00       196\n",
      "\n",
      "    accuracy                           0.72      4613\n",
      "   macro avg       0.47      0.35      0.31      4613\n",
      "weighted avg       0.68      0.72      0.62      4613\n",
      "\n",
      "Linear SVM with C = 0.001\n"
     ]
    },
    {
     "name": "stderr",
     "output_type": "stream",
     "text": [
      "/Users/vanessagraciatan/opt/anaconda3/lib/python3.9/site-packages/sklearn/metrics/_classification.py:1344: UndefinedMetricWarning: Precision and F-score are ill-defined and being set to 0.0 in labels with no predicted samples. Use `zero_division` parameter to control this behavior.\n",
      "  _warn_prf(average, modifier, msg_start, len(result))\n",
      "/Users/vanessagraciatan/opt/anaconda3/lib/python3.9/site-packages/sklearn/metrics/_classification.py:1344: UndefinedMetricWarning: Precision and F-score are ill-defined and being set to 0.0 in labels with no predicted samples. Use `zero_division` parameter to control this behavior.\n",
      "  _warn_prf(average, modifier, msg_start, len(result))\n",
      "/Users/vanessagraciatan/opt/anaconda3/lib/python3.9/site-packages/sklearn/metrics/_classification.py:1344: UndefinedMetricWarning: Precision and F-score are ill-defined and being set to 0.0 in labels with no predicted samples. Use `zero_division` parameter to control this behavior.\n",
      "  _warn_prf(average, modifier, msg_start, len(result))\n"
     ]
    },
    {
     "name": "stdout",
     "output_type": "stream",
     "text": [
      "Accuracy: 0.7112508129200087\n",
      "              precision    recall  f1-score   support\n",
      "\n",
      "         3.0       0.00      0.00      0.00      1136\n",
      "         4.0       0.71      1.00      0.83      3281\n",
      "         5.0       0.00      0.00      0.00       196\n",
      "\n",
      "    accuracy                           0.71      4613\n",
      "   macro avg       0.24      0.33      0.28      4613\n",
      "weighted avg       0.51      0.71      0.59      4613\n",
      "\n",
      "Linear SVM with C = 0.05\n"
     ]
    },
    {
     "name": "stderr",
     "output_type": "stream",
     "text": [
      "/Users/vanessagraciatan/opt/anaconda3/lib/python3.9/site-packages/sklearn/metrics/_classification.py:1344: UndefinedMetricWarning: Precision and F-score are ill-defined and being set to 0.0 in labels with no predicted samples. Use `zero_division` parameter to control this behavior.\n",
      "  _warn_prf(average, modifier, msg_start, len(result))\n",
      "/Users/vanessagraciatan/opt/anaconda3/lib/python3.9/site-packages/sklearn/metrics/_classification.py:1344: UndefinedMetricWarning: Precision and F-score are ill-defined and being set to 0.0 in labels with no predicted samples. Use `zero_division` parameter to control this behavior.\n",
      "  _warn_prf(average, modifier, msg_start, len(result))\n",
      "/Users/vanessagraciatan/opt/anaconda3/lib/python3.9/site-packages/sklearn/metrics/_classification.py:1344: UndefinedMetricWarning: Precision and F-score are ill-defined and being set to 0.0 in labels with no predicted samples. Use `zero_division` parameter to control this behavior.\n",
      "  _warn_prf(average, modifier, msg_start, len(result))\n"
     ]
    },
    {
     "name": "stdout",
     "output_type": "stream",
     "text": [
      "Accuracy: 0.7095165835681769\n",
      "              precision    recall  f1-score   support\n",
      "\n",
      "         3.0       0.48      0.29      0.36      1136\n",
      "         4.0       0.75      0.89      0.81      3281\n",
      "         5.0       0.75      0.11      0.19       196\n",
      "\n",
      "    accuracy                           0.71      4613\n",
      "   macro avg       0.66      0.43      0.45      4613\n",
      "weighted avg       0.68      0.71      0.68      4613\n",
      "\n",
      "Linear SVM with C = 0.01\n",
      "Accuracy: 0.7233904183828311\n",
      "              precision    recall  f1-score   support\n",
      "\n",
      "         3.0       0.59      0.13      0.22      1136\n",
      "         4.0       0.73      0.97      0.83      3281\n",
      "         5.0       1.00      0.04      0.07       196\n",
      "\n",
      "    accuracy                           0.72      4613\n",
      "   macro avg       0.77      0.38      0.37      4613\n",
      "weighted avg       0.71      0.72      0.65      4613\n",
      "\n",
      "Linear SVM with C = 0.5\n",
      "Accuracy: 0.6789507912421417\n",
      "              precision    recall  f1-score   support\n",
      "\n",
      "         3.0       0.42      0.38      0.40      1136\n",
      "         4.0       0.76      0.81      0.78      3281\n",
      "         5.0       0.47      0.17      0.25       196\n",
      "\n",
      "    accuracy                           0.68      4613\n",
      "   macro avg       0.55      0.46      0.48      4613\n",
      "weighted avg       0.66      0.68      0.67      4613\n",
      "\n",
      "Linear SVM with C = 0.1\n",
      "Accuracy: 0.7032300021677866\n",
      "              precision    recall  f1-score   support\n",
      "\n",
      "         3.0       0.46      0.34      0.39      1136\n",
      "         4.0       0.76      0.86      0.81      3281\n",
      "         5.0       0.69      0.15      0.24       196\n",
      "\n",
      "    accuracy                           0.70      4613\n",
      "   macro avg       0.64      0.45      0.48      4613\n",
      "weighted avg       0.68      0.70      0.68      4613\n",
      "\n",
      "Linear SVM with C = 1.0\n",
      "Accuracy: 0.6752655538694993\n",
      "              precision    recall  f1-score   support\n",
      "\n",
      "         3.0       0.42      0.39      0.40      1136\n",
      "         4.0       0.76      0.80      0.78      3281\n",
      "         5.0       0.44      0.17      0.25       196\n",
      "\n",
      "    accuracy                           0.68      4613\n",
      "   macro avg       0.54      0.46      0.48      4613\n",
      "weighted avg       0.66      0.68      0.67      4613\n",
      "\n"
     ]
    }
   ],
   "source": [
    "# fit Linear SVM model and compare accuracy and classification report for each hyperparameter \n",
    "accuracy_list_lp= []\n",
    "for par, clf in zip(tune, classifiers):\n",
    "    print('Linear SVM with', par)\n",
    "    clf.fit(X_train_lp, y_train_lp)\n",
    "    pred = clf.predict(X_test_lp)\n",
    "    accuracy = accuracy_score(y_test_lp, pred)\n",
    "    accuracy_list_lp.append(accuracy)\n",
    "    print('Accuracy:', accuracy)\n",
    "    print(classification_report(y_test_lp, pred))"
   ]
  },
  {
   "cell_type": "code",
   "execution_count": 20,
   "id": "2b74d9b2",
   "metadata": {},
   "outputs": [
    {
     "data": {
      "image/png": "[encoded data removed]",
      "text/plain": [
       "<Figure size 1000x700 with 1 Axes>"
      ]
     },
     "metadata": {},
     "output_type": "display_data"
    }
   ],
   "source": [
    "# plot accuracy for different hyperparameter C and features\n",
    "plt.figure(figsize = (10, 7))\n",
    "plt.plot(tune, accuracy_list, label='All Features')\n",
    "plt.plot(tune, accuracy_list_l, label='Excluding Publisher')\n",
    "plt.plot(tune, accuracy_list_p, label='Excluding Language')\n",
    "plt.plot(tune, accuracy_list_lp, label='Excluding Publisher and Language')\n",
    "plt.title(\"Linear SVM Accuracies\")\n",
    "plt.xlabel(\"C Values\")\n",
    "plt.ylabel(\"Accuracy\")\n",
    "plt.legend()\n",
    "plt.show()"
   ]
  },
  {
   "cell_type": "code",
   "execution_count": 21,
   "id": "0a3cec6e",
   "metadata": {},
   "outputs": [
    {
     "data": {
      "image/png": "[encoded data removed]",
      "text/plain": [
       "<Figure size 1000x700 with 1 Axes>"
      ]
     },
     "metadata": {},
     "output_type": "display_data"
    }
   ],
   "source": [
    "# plot accuracy of model on all features data with different values of C \n",
    "plt.figure(figsize = (10, 7))\n",
    "plt.plot(tune, accuracy_list, label='All Features')\n",
    "plt.title(\"Linear SVM Accuracies\")\n",
    "plt.xlabel(\"C Values\")\n",
    "plt.ylabel(\"Accuracy\")\n",
    "plt.show()"
   ]
  },
  {
   "cell_type": "code",
   "execution_count": 22,
   "id": "8e1c13e7",
   "metadata": {},
   "outputs": [],
   "source": [
    "'''Error Analysis Section'''\n",
    "\n",
    "# apply the model and store the prediction for X_test\n",
    "predict = []\n",
    "clf = svm.LinearSVC(C=0.01)\n",
    "clf.fit(X_train, y_train)\n",
    "predict.append(clf.predict(X_test))"
   ]
  },
  {
   "cell_type": "code",
   "execution_count": 23,
   "id": "88e05847",
   "metadata": {},
   "outputs": [],
   "source": [
    "# convert list of prediction into dataframe\n",
    "y_pred = []\n",
    "for value in predict:\n",
    "    for label in value:\n",
    "        y_pred.append(label)\n",
    "\n",
    "pred_df = pd.DataFrame(y_pred, columns = ['prediction'])"
   ]
  },
  {
   "cell_type": "code",
   "execution_count": 24,
   "id": "de3fd424",
   "metadata": {},
   "outputs": [],
   "source": [
    "# convert true class label of X_test to dataframe\n",
    "test = pd.DataFrame(y_test.values.tolist(), columns = ['true'])"
   ]
  },
  {
   "cell_type": "code",
   "execution_count": 25,
   "id": "a5b8eb72",
   "metadata": {},
   "outputs": [],
   "source": [
    "# take all indexes in X_test\n",
    "indexes = []\n",
    "for value in y_test.index:\n",
    "    indexes.append(value)"
   ]
  },
  {
   "cell_type": "code",
   "execution_count": 26,
   "id": "dbd8c3fd",
   "metadata": {},
   "outputs": [],
   "source": [
    "# merge all dataframe and keep only those with error prediction\n",
    "df1 = pd.DataFrame(indexes, columns = ['number'])\n",
    "df2 = pd.concat([df1, pred_df], axis = 1)\n",
    "df3 = pd.concat([df2, test], axis = 1)\n",
    "error = df3[df3['prediction'] != df3['true']]"
   ]
  },
  {
   "cell_type": "code",
   "execution_count": 27,
   "id": "94ed5330",
   "metadata": {},
   "outputs": [],
   "source": [
    "# categorize according to each feature and count\n",
    "from collections import Counter\n",
    "auth = []\n",
    "day = []\n",
    "month = []\n",
    "year = []\n",
    "page = []\n",
    "lang = []\n",
    "publi = []\n",
    "\n",
    "for i in error['number']:\n",
    "    \n",
    "    testing = x_train_original.loc[i]\n",
    "    day.append(testing['PublishDay'])\n",
    "    month.append(testing['PublishMonth'])\n",
    "    year.append(testing['PublishYear'])\n",
    "    page.append(testing['pagesNumber'])\n",
    "    lang.append(testing['Language'])\n",
    "    publi.append(testing['Publisher'])\n",
    "    auth.append(testing['Authors'])\n",
    "    \n",
    "top_auth = dict(sorted(Counter(auth).items(), key=lambda x: x[1], reverse=True)[:5])\n",
    "top_day = dict(sorted(Counter(day).items(), key=lambda x: x[1], reverse=True)[:5])\n",
    "top_month = dict(sorted(Counter(month).items(), key=lambda x: x[1], reverse=True)[:5])\n",
    "top_year = dict(sorted(Counter(year).items(), key=lambda x: x[1], reverse=True)[:5])\n",
    "top_page = dict(sorted(Counter(page).items(), key=lambda x: x[1], reverse=True)[:5])\n",
    "top_lang = dict(sorted(Counter(lang).items(), key=lambda x: x[1], reverse=True)[:5])\n",
    "top_publi = dict(sorted(Counter(publi).items(), key=lambda x: x[1], reverse=True)[:5])"
   ]
  },
  {
   "cell_type": "code",
   "execution_count": 28,
   "id": "4d7704e8",
   "metadata": {},
   "outputs": [
    {
     "name": "stdout",
     "output_type": "stream",
     "text": [
      "{'Ursula Dubosarsky': 4, 'Ziauddin Sardar': 3, 'Marilyn Janovitz': 3, 'Mallanaga Vātsyāyana': 3, 'William Barton': 3}\n",
      "{1: 540, 15: 47, 28: 41, 17: 41, 6: 32}\n",
      "{1: 137, 10: 127, 5: 120, 6: 117, 4: 112}\n",
      "{2006: 141, 2005: 137, 2007: 116, 2004: 101, 2003: 100}\n",
      "{256: 50, 224: 44, 32: 36, 320: 35, 304: 30}\n",
      "{'Missing': 1002, 'eng': 225, 'spa': 6, 'fre': 5, 'ger': 2}\n",
      "{'Oxford University Press, USA': 18, 'Routledge': 17, 'Penguin Books': 12, \"St. Martin's Press\": 11, 'Princeton University Press': 11}\n"
     ]
    }
   ],
   "source": [
    "# print result to see categorized features of error \n",
    "print(top_auth)\n",
    "print(top_day)\n",
    "print(top_month)\n",
    "print(top_year)\n",
    "print(top_page)\n",
    "print(top_lang)\n",
    "print(top_publi)"
   ]
  },
  {
   "cell_type": "code",
   "execution_count": 29,
   "id": "5318dea1",
   "metadata": {},
   "outputs": [],
   "source": [
    "# apply model to original test dataset using C = 0.01 and all features\n",
    "x_test_original = pd.read_csv(\"book_rating_test.csv\")\n",
    "x_test_original['Publisher'].fillna('Unknown', inplace=True)\n",
    "x_test_original['Language'].fillna('Missing', inplace=True)\n",
    "\n",
    "vectorizer3 = TfidfVectorizer(vocabulary=vectorizer1.vocabulary_)\n",
    "publisher_test = vectorizer3.fit_transform(x_test_original['Publisher'])\n",
    "\n",
    "vectorizer4 = TfidfVectorizer(vocabulary=vectorizer2.vocabulary_)\n",
    "language_test = vectorizer4.fit_transform(x_test_original['Language'])\n",
    "\n",
    "scaler = MaxAbsScaler()\n",
    "features_test = pd.concat([x_test_original['PublishYear'], x_test_original['PublishMonth'],\n",
    "                      x_test_original['PublishDay'], x_test_original['pagesNumber']], axis = 1)\n",
    "\n",
    "matrix_test_name = sp.load_npz('test_name_vec.npz')\n",
    "matrix_test_authors = sp.load_npz('test_authors_vec.npz')\n",
    "matrix_test_desc = sp.load_npz('test_desc_vec.npz')\n",
    "\n",
    "matrix_combine_test = hstack([features_test, matrix_test_name])\n",
    "matrix_combine_test_2 = hstack((matrix_combine_test, matrix_test_authors))\n",
    "matrix_test = hstack((matrix_combine_test_2, matrix_test_desc))\n",
    "matrix_test2 = hstack((matrix_test, publisher_test))\n",
    "X_test = hstack((matrix_test2, language_test))\n",
    "\n",
    "X_test = scaler.fit_transform(X_test)\n",
    "matrix = scaler.fit_transform(matrix)\n",
    "\n",
    "predictions = {}\n",
    "model = svm.LinearSVC(C=0.01)\n",
    "model.fit(matrix, y)\n",
    "predictions['y_predict'] = model.predict(X_test)\n",
    "\n",
    "# assign prediction to a list \n",
    "predict = []\n",
    "for key, value in predictions.items():\n",
    "    for values in value:\n",
    "        predict.append(values)"
   ]
  },
  {
   "cell_type": "code",
   "execution_count": 30,
   "id": "69785613",
   "metadata": {},
   "outputs": [],
   "source": [
    "# create csv for prediction for kaggle \n",
    "import csv\n",
    "\n",
    "data = [(i + 1, value) for i, value in enumerate(predict)]\n",
    "\n",
    "with open(\"prediction_linearSVM.csv\", \"wt\") as fp:\n",
    "    writer = csv.writer(fp, delimiter=\",\")\n",
    "    writer.writerow([\"id\", \"rating_label\"])\n",
    "    writer.writerows(data)"
   ]
  },
  {
   "cell_type": "code",
   "execution_count": 31,
   "id": "839d0fd3",
   "metadata": {},
   "outputs": [
    {
     "name": "stdout",
     "output_type": "stream",
     "text": [
      "ZeroR Accuracy: 0.7112508129200087\n",
      "              precision    recall  f1-score   support\n",
      "\n",
      "         3.0       0.00      0.00      0.00      1136\n",
      "         4.0       0.71      1.00      0.83      3281\n",
      "         5.0       0.00      0.00      0.00       196\n",
      "\n",
      "    accuracy                           0.71      4613\n",
      "   macro avg       0.24      0.33      0.28      4613\n",
      "weighted avg       0.51      0.71      0.59      4613\n",
      "\n"
     ]
    },
    {
     "name": "stderr",
     "output_type": "stream",
     "text": [
      "/Users/vanessagraciatan/opt/anaconda3/lib/python3.9/site-packages/sklearn/metrics/_classification.py:1344: UndefinedMetricWarning: Precision and F-score are ill-defined and being set to 0.0 in labels with no predicted samples. Use `zero_division` parameter to control this behavior.\n",
      "  _warn_prf(average, modifier, msg_start, len(result))\n",
      "/Users/vanessagraciatan/opt/anaconda3/lib/python3.9/site-packages/sklearn/metrics/_classification.py:1344: UndefinedMetricWarning: Precision and F-score are ill-defined and being set to 0.0 in labels with no predicted samples. Use `zero_division` parameter to control this behavior.\n",
      "  _warn_prf(average, modifier, msg_start, len(result))\n",
      "/Users/vanessagraciatan/opt/anaconda3/lib/python3.9/site-packages/sklearn/metrics/_classification.py:1344: UndefinedMetricWarning: Precision and F-score are ill-defined and being set to 0.0 in labels with no predicted samples. Use `zero_division` parameter to control this behavior.\n",
      "  _warn_prf(average, modifier, msg_start, len(result))\n"
     ]
    }
   ],
   "source": [
    "'''0R Baseline Classifier'''\n",
    "\n",
    "# import library\n",
    "from sklearn.dummy import DummyClassifier\n",
    "\n",
    "# load data\n",
    "x_train_original = pd.read_csv(\"book_rating_train.csv\")\n",
    "X_train_r = x_train_original.iloc[:, :-1]\n",
    "y = x_train_original['rating_label']\n",
    "\n",
    "# split dataset to train and test, create a 0R model\n",
    "x_train, x_test, y_train, y_test = train_test_split(X_train_r, y, train_size = 0.8, test_size=0.2, random_state=42)\n",
    "zeroR = DummyClassifier(strategy=\"most_frequent\")\n",
    "\n",
    "# Fit the 0R model on the training data\n",
    "zeroR.fit(x_train, y_train)\n",
    "\n",
    "# Predict using the 0R model\n",
    "y_pred = zeroR.predict(x_test)\n",
    "\n",
    "# Calculate accuracy and classification report for the model\n",
    "accuracy = accuracy_score(y_test, y_pred)\n",
    "print(\"ZeroR Accuracy:\", accuracy)\n",
    "print(classification_report(y_test, y_pred))"
   ]
  },
  {
   "cell_type": "code",
   "execution_count": 32,
   "id": "f5f96340",
   "metadata": {},
   "outputs": [],
   "source": [
    "# Apply 0R Classifier to original test data\n",
    "x_test_original = pd.read_csv(\"book_rating_test.csv\")\n",
    "\n",
    "predictions = {}\n",
    "zeroR.fit(x_train_original, y)\n",
    "predictions['y_predict'] = zeroR.predict(x_test_original)"
   ]
  },
  {
   "cell_type": "code",
   "execution_count": 33,
   "id": "0400dabb",
   "metadata": {},
   "outputs": [],
   "source": [
    "# assign prediction to a list \n",
    "predict = []\n",
    "for key, value in predictions.items():\n",
    "    for values in value:\n",
    "        predict.append(values)\n",
    "        \n",
    "# create csv for prediction using 0R\n",
    "import csv\n",
    "\n",
    "data = [(i + 1, value) for i, value in enumerate(predict)]\n",
    "\n",
    "with open(\"prediction_zeroR.csv\", \"wt\") as fp:\n",
    "    writer = csv.writer(fp, delimiter=\",\")\n",
    "    writer.writerow([\"id\", \"rating_label\"])\n",
    "    writer.writerows(data)"
   ]
  },
  {
   "cell_type": "code",
   "execution_count": 34,
   "id": "c1553bb3",
   "metadata": {},
   "outputs": [],
   "source": [
    "'''This section is the same as first section'''\n",
    "# load the datasets (features and labels)\n",
    "x_train_original = pd.read_csv(\"book_rating_train.csv\")\n",
    "y = x_train_original['rating_label']\n",
    "\n",
    "# fill in missing values\n",
    "x_train_original['Publisher'].fillna('Unknown', inplace=True)\n",
    "x_train_original['Language'].fillna('Missing', inplace=True)"
   ]
  },
  {
   "cell_type": "code",
   "execution_count": 35,
   "id": "5c0cd709",
   "metadata": {},
   "outputs": [
    {
     "name": "stdout",
     "output_type": "stream",
     "text": [
      "17202\n"
     ]
    }
   ],
   "source": [
    "# num of missing value in language\n",
    "i = 0\n",
    "for value in x_train_original['Language'].tolist():\n",
    "    if value =='Missing':\n",
    "        i+=1\n",
    "print(i)"
   ]
  },
  {
   "cell_type": "code",
   "execution_count": 36,
   "id": "10fc1e7c",
   "metadata": {},
   "outputs": [
    {
     "name": "stdout",
     "output_type": "stream",
     "text": [
      "148\n"
     ]
    }
   ],
   "source": [
    "# num of missing value in publisher \n",
    "j = 0\n",
    "for value in x_train_original['Publisher'].tolist():\n",
    "    if value =='Unknown':\n",
    "        j+=1\n",
    "print(j)"
   ]
  },
  {
   "cell_type": "code",
   "execution_count": null,
   "id": "8d1d8b2f",
   "metadata": {},
   "outputs": [],
   "source": []
  }
 ],
 "metadata": {
  "kernelspec": {
   "display_name": "Python 3 (ipykernel)",
   "language": "python",
   "name": "python3"
  },
  "language_info": {
   "codemirror_mode": {
    "name": "ipython",
    "version": 3
   },
   "file_extension": ".py",
   "mimetype": "text/x-python",
   "name": "python",
   "nbconvert_exporter": "python",
   "pygments_lexer": "ipython3",
   "version": "3.9.13"
  }
 },
 "nbformat": 4,
 "nbformat_minor": 5
}
